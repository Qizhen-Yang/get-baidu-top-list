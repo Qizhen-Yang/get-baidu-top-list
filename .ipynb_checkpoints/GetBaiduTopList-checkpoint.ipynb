{
 "cells": [
  {
   "cell_type": "code",
   "execution_count": 1,
   "id": "0d5435da",
   "metadata": {
    "scrolled": false
   },
   "outputs": [
    {
     "name": "stdout",
     "output_type": "stream",
     "text": [
      "Added row: ['2021-08-14 18:16:40', '扬州未核酸检测将录入失信记录', '马龙回应赢球时都喊啥', '作家问靖国神社连参观都不能去了吗', '张哲瀚出演作品将被下架', '河南商丘2地调整为高风险', '当古风舞蹈邂逅龙门石窟']\n"
     ]
    }
   ],
   "source": [
    "# import libs\n",
    "import requests\n",
    "import csv\n",
    "import time\n",
    "from bs4 import BeautifulSoup\n",
    "\n",
    "# getting content\n",
    "# header settings\n",
    "header = {\"User-Agent\": \"Mozilla/5.0 (Windows NT 10.0; Win64; x64) AppleWebKit/537.36 (KHTML, like Gecko) Chrome/92.0.4515.131 Safari/537.36\", \n",
    "         \"Cookie\": \"your cookie\"}\n",
    "# original html code\n",
    "baidu = requests.get(\"https://www.baidu.com\", headers=header)\n",
    "# get title and links\n",
    "baidu_bs = BeautifulSoup(baidu.text, \"html.parser\")\n",
    "baidu_top = baidu_bs.find_all(\"span\", attrs = {'class': 'title-content-title'})\n",
    "\n",
    "# time\n",
    "date_and_time = time.strftime(\"%Y-%m-%d %H:%M:%S\", time.localtime())\n",
    "\n",
    "# writing into csv file\n",
    "# open file\n",
    "file = open(\"baidu_top.csv\",\"a\", encoding = 'utf-8', newline = \"\")\n",
    "# csv writer\n",
    "csv = csv.writer(file)\n",
    "# content [date and time, string1, link1, string2, link2, ...]\n",
    "csv_content = [date_and_time,\n",
    "           baidu_top[0].string,\n",
    "           baidu_top[1].string,\n",
    "           baidu_top[2].string,\n",
    "           baidu_top[3].string,\n",
    "           baidu_top[4].string,\n",
    "           baidu_top[5].string]\n",
    "# write into file\n",
    "csv.writerow(csv_content)\n",
    "# print content\n",
    "print(\"Added row:\", csv_content)\n",
    "# close file\n",
    "file.close()"
   ]
  },
  {
   "cell_type": "code",
   "execution_count": null,
   "id": "243e69ad",
   "metadata": {},
   "outputs": [],
   "source": []
  }
 ],
 "metadata": {
  "kernelspec": {
   "display_name": "Python 3",
   "language": "python",
   "name": "python3"
  },
  "language_info": {
   "codemirror_mode": {
    "name": "ipython",
    "version": 3
   },
   "file_extension": ".py",
   "mimetype": "text/x-python",
   "name": "python",
   "nbconvert_exporter": "python",
   "pygments_lexer": "ipython3",
   "version": "3.8.8"
  }
 },
 "nbformat": 4,
 "nbformat_minor": 5
}
